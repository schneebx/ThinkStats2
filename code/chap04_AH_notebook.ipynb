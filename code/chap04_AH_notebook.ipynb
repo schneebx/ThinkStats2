{
 "cells": [
  {
   "cell_type": "markdown",
   "metadata": {},
   "source": [
    "# Examples and Exercises from Think Stats, 2nd Edition\n",
    "\n",
    "http://thinkstats2.com\n",
    "\n",
    "Copyright 2016 Allen B. Downey\n",
    "\n",
    "MIT License: https://opensource.org/licenses/MIT\n"
   ]
  },
  {
   "cell_type": "code",
   "execution_count": 35,
   "metadata": {},
   "outputs": [],
   "source": [
    "from __future__ import print_function, division\n",
    "\n",
    "%matplotlib inline\n",
    "\n",
    "import numpy as np\n",
    "\n",
    "import nsfg\n",
    "import first\n",
    "import thinkstats2\n",
    "import thinkplot"
   ]
  },
  {
   "cell_type": "markdown",
   "metadata": {},
   "source": [
    "## Examples\n",
    "\n",
    "One more time, I'll load the data from the NSFG."
   ]
  },
  {
   "cell_type": "code",
   "execution_count": 36,
   "metadata": {},
   "outputs": [],
   "source": [
    "live, firsts, others = first.MakeFrames()"
   ]
  },
  {
   "cell_type": "markdown",
   "metadata": {},
   "source": [
    "And compute the distribution of birth weight for first babies and others."
   ]
  },
  {
   "cell_type": "code",
   "execution_count": 37,
   "metadata": {},
   "outputs": [
    {
     "name": "stdout",
     "output_type": "stream",
     "text": [
      "Firsts 4413 4363\n",
      "Others 4735 4675\n"
     ]
    }
   ],
   "source": [
    "first_wgt = firsts.totalwgt_lb\n",
    "first_wgt_dropna = first_wgt.dropna()\n",
    "print('Firsts', len(first_wgt), len(first_wgt_dropna))\n",
    " \n",
    "other_wgt = others.totalwgt_lb\n",
    "other_wgt_dropna = other_wgt.dropna()\n",
    "print('Others', len(other_wgt), len(other_wgt_dropna))\n",
    "\n",
    "first_pmf = thinkstats2.Pmf(first_wgt_dropna, label='first')\n",
    "other_pmf = thinkstats2.Pmf(other_wgt_dropna, label='other')"
   ]
  },
  {
   "cell_type": "markdown",
   "metadata": {},
   "source": [
    "We can plot the PMFs on the same scale, but it is hard to see if there is a difference."
   ]
  },
  {
   "cell_type": "code",
   "execution_count": 38,
   "metadata": {},
   "outputs": [
    {
     "data": {
      "image/png": "[encoded data removed]",
      "text/plain": [
       "<Figure size 432x288 with 1 Axes>"
      ]
     },
     "metadata": {},
     "output_type": "display_data"
    }
   ],
   "source": [
    "width = 0.4 / 16\n",
    "\n",
    "# plot PMFs of birth weights for first babies and others\n",
    "thinkplot.PrePlot(2)\n",
    "thinkplot.Hist(first_pmf, align='right', width=width)\n",
    "thinkplot.Hist(other_pmf, align='left', width=width)\n",
    "thinkplot.Config(xlabel='Weight (pounds)', ylabel='PMF')"
   ]
  },
  {
   "cell_type": "markdown",
   "metadata": {},
   "source": [
    "`PercentileRank` computes the fraction of `scores` less than or equal to `your_score`."
   ]
  },
  {
   "cell_type": "code",
   "execution_count": 39,
   "metadata": {},
   "outputs": [],
   "source": [
    "def PercentileRank(scores, your_score):\n",
    "    count = 0\n",
    "    for score in scores:\n",
    "        if score <= your_score:\n",
    "            count += 1\n",
    "\n",
    "    percentile_rank = 100.0 * count / len(scores)\n",
    "    return percentile_rank"
   ]
  },
  {
   "cell_type": "markdown",
   "metadata": {},
   "source": [
    "If this is the list of scores."
   ]
  },
  {
   "cell_type": "code",
   "execution_count": 40,
   "metadata": {},
   "outputs": [],
   "source": [
    "t = [55, 66, 77, 88, 99]"
   ]
  },
  {
   "cell_type": "markdown",
   "metadata": {},
   "source": [
    "And you got the 88, your percentile rank is 80."
   ]
  },
  {
   "cell_type": "code",
   "execution_count": 41,
   "metadata": {},
   "outputs": [
    {
     "data": {
      "text/plain": [
       "80.0"
      ]
     },
     "execution_count": 41,
     "metadata": {},
     "output_type": "execute_result"
    }
   ],
   "source": [
    "PercentileRank(t, 88)"
   ]
  },
  {
   "cell_type": "markdown",
   "metadata": {},
   "source": [
    "`Percentile` takes a percentile rank and computes the corresponding percentile. "
   ]
  },
  {
   "cell_type": "code",
   "execution_count": 42,
   "metadata": {},
   "outputs": [],
   "source": [
    "def Percentile(scores, percentile_rank):\n",
    "    scores.sort()\n",
    "    for score in scores:\n",
    "        if PercentileRank(scores, score) >= percentile_rank:\n",
    "            return score"
   ]
  },
  {
   "cell_type": "markdown",
   "metadata": {},
   "source": [
    "The median is the 50th percentile, which is 77."
   ]
  },
  {
   "cell_type": "code",
   "execution_count": 43,
   "metadata": {},
   "outputs": [
    {
     "data": {
      "text/plain": [
       "77"
      ]
     },
     "execution_count": 43,
     "metadata": {},
     "output_type": "execute_result"
    }
   ],
   "source": [
    "Percentile(t, 50)"
   ]
  },
  {
   "cell_type": "markdown",
   "metadata": {},
   "source": [
    "Here's a more efficient way to compute percentiles."
   ]
  },
  {
   "cell_type": "code",
   "execution_count": 44,
   "metadata": {},
   "outputs": [],
   "source": [
    "def Percentile2(scores, percentile_rank):\n",
    "    scores.sort()\n",
    "    index = percentile_rank * (len(scores)-1) // 100\n",
    "    return scores[index]"
   ]
  },
  {
   "cell_type": "markdown",
   "metadata": {},
   "source": [
    "Let's hope we get the same answer."
   ]
  },
  {
   "cell_type": "code",
   "execution_count": 45,
   "metadata": {},
   "outputs": [
    {
     "data": {
      "text/plain": [
       "77"
      ]
     },
     "execution_count": 45,
     "metadata": {},
     "output_type": "execute_result"
    }
   ],
   "source": [
    "Percentile2(t, 50)"
   ]
  },
  {
   "cell_type": "markdown",
   "metadata": {},
   "source": [
    "The Cumulative Distribution Function (CDF) is almost the same as `PercentileRank`.  The only difference is that the result is 0-1 instead of 0-100."
   ]
  },
  {
   "cell_type": "code",
   "execution_count": 46,
   "metadata": {},
   "outputs": [],
   "source": [
    "def EvalCdf(sample, x):\n",
    "    count = 0.0\n",
    "    for value in sample:\n",
    "        if value <= x:\n",
    "            count += 1\n",
    "\n",
    "    prob = count / len(sample)\n",
    "    return prob"
   ]
  },
  {
   "cell_type": "markdown",
   "metadata": {},
   "source": [
    "In this list"
   ]
  },
  {
   "cell_type": "code",
   "execution_count": 47,
   "metadata": {},
   "outputs": [],
   "source": [
    "t = [1, 2, 2, 3, 5]"
   ]
  },
  {
   "cell_type": "markdown",
   "metadata": {},
   "source": [
    "We can evaluate the CDF for various values:"
   ]
  },
  {
   "cell_type": "code",
   "execution_count": 48,
   "metadata": {},
   "outputs": [
    {
     "data": {
      "text/plain": [
       "(0.0, 0.2, 0.6, 0.8, 0.8, 1.0)"
      ]
     },
     "execution_count": 48,
     "metadata": {},
     "output_type": "execute_result"
    }
   ],
   "source": [
    "EvalCdf(t, 0), EvalCdf(t, 1), EvalCdf(t, 2), EvalCdf(t, 3), EvalCdf(t, 4), EvalCdf(t, 5)"
   ]
  },
  {
   "cell_type": "markdown",
   "metadata": {},
   "source": [
    "Here's an example using real data, the distribution of pregnancy length for live births."
   ]
  },
  {
   "cell_type": "code",
   "execution_count": 49,
   "metadata": {},
   "outputs": [
    {
     "data": {
      "image/png": "[encoded data removed]",
      "text/plain": [
       "<Figure size 432x288 with 1 Axes>"
      ]
     },
     "metadata": {},
     "output_type": "display_data"
    }
   ],
   "source": [
    "cdf = thinkstats2.Cdf(live.prglngth, label='prglngth')\n",
    "thinkplot.Cdf(cdf)\n",
    "thinkplot.Config(xlabel='Pregnancy length (weeks)', ylabel='CDF', loc='upper left')"
   ]
  },
  {
   "cell_type": "markdown",
   "metadata": {},
   "source": [
    "`Cdf` provides `Prob`, which evaluates the CDF; that is, it computes the fraction of values less than or equal to the given value.  For example, 94% of pregnancy lengths are less than or equal to 41."
   ]
  },
  {
   "cell_type": "code",
   "execution_count": 50,
   "metadata": {},
   "outputs": [
    {
     "data": {
      "text/plain": [
       "0.9406427634455619"
      ]
     },
     "execution_count": 50,
     "metadata": {},
     "output_type": "execute_result"
    }
   ],
   "source": [
    "cdf.Prob(41)"
   ]
  },
  {
   "cell_type": "markdown",
   "metadata": {
    "collapsed": true
   },
   "source": [
    "`Value` evaluates the inverse CDF; given a fraction, it computes the corresponding value.  For example, the median is the value that corresponds to 0.5."
   ]
  },
  {
   "cell_type": "code",
   "execution_count": 51,
   "metadata": {},
   "outputs": [
    {
     "data": {
      "text/plain": [
       "39"
      ]
     },
     "execution_count": 51,
     "metadata": {},
     "output_type": "execute_result"
    }
   ],
   "source": [
    "cdf.Value(0.5)"
   ]
  },
  {
   "cell_type": "markdown",
   "metadata": {},
   "source": [
    "In general, CDFs are a good way to visualize distributions.  They are not as noisy as PMFs, and if you plot several CDFs on the same axes, any differences between them are apparent."
   ]
  },
  {
   "cell_type": "code",
   "execution_count": 52,
   "metadata": {},
   "outputs": [
    {
     "data": {
      "image/png": "[encoded data removed]",
      "text/plain": [
       "<Figure size 432x288 with 1 Axes>"
      ]
     },
     "metadata": {},
     "output_type": "display_data"
    }
   ],
   "source": [
    "first_cdf = thinkstats2.Cdf(firsts.totalwgt_lb, label='first')\n",
    "other_cdf = thinkstats2.Cdf(others.totalwgt_lb, label='other')\n",
    "\n",
    "thinkplot.PrePlot(2)\n",
    "thinkplot.Cdfs([first_cdf, other_cdf])\n",
    "thinkplot.Config(xlabel='Weight (pounds)', ylabel='CDF')"
   ]
  },
  {
   "cell_type": "markdown",
   "metadata": {},
   "source": [
    "In this example, we can see that first babies are slightly, but consistently, lighter than others.\n",
    "\n",
    "We can use the CDF of birth weight to compute percentile-based statistics."
   ]
  },
  {
   "cell_type": "code",
   "execution_count": 53,
   "metadata": {},
   "outputs": [],
   "source": [
    "weights = live.totalwgt_lb\n",
    "live_cdf = thinkstats2.Cdf(weights, label='live')"
   ]
  },
  {
   "cell_type": "markdown",
   "metadata": {},
   "source": [
    "Again, the median is the 50th percentile."
   ]
  },
  {
   "cell_type": "code",
   "execution_count": 54,
   "metadata": {},
   "outputs": [
    {
     "data": {
      "text/plain": [
       "7.375"
      ]
     },
     "execution_count": 54,
     "metadata": {},
     "output_type": "execute_result"
    }
   ],
   "source": [
    "median = live_cdf.Percentile(50)\n",
    "median"
   ]
  },
  {
   "cell_type": "markdown",
   "metadata": {},
   "source": [
    "The interquartile range is the interval from the 25th to 75th percentile."
   ]
  },
  {
   "cell_type": "code",
   "execution_count": 55,
   "metadata": {},
   "outputs": [
    {
     "data": {
      "text/plain": [
       "(6.5, 8.125)"
      ]
     },
     "execution_count": 55,
     "metadata": {},
     "output_type": "execute_result"
    }
   ],
   "source": [
    "iqr = (live_cdf.Percentile(25), live_cdf.Percentile(75))\n",
    "iqr"
   ]
  },
  {
   "cell_type": "markdown",
   "metadata": {},
   "source": [
    "We can use the CDF to look up the percentile rank of a particular value.  For example, my second daughter was 10.2 pounds at birth, which is near the 99th percentile."
   ]
  },
  {
   "cell_type": "code",
   "execution_count": 56,
   "metadata": {},
   "outputs": [
    {
     "data": {
      "text/plain": [
       "98.82717415357381"
      ]
     },
     "execution_count": 56,
     "metadata": {},
     "output_type": "execute_result"
    }
   ],
   "source": [
    "live_cdf.PercentileRank(10.2)"
   ]
  },
  {
   "cell_type": "markdown",
   "metadata": {},
   "source": [
    "If we draw a random sample from the observed weights and map each weigh to its percentile rank."
   ]
  },
  {
   "cell_type": "code",
   "execution_count": 57,
   "metadata": {},
   "outputs": [],
   "source": [
    "sample = np.random.choice(weights, 100, replace=True)\n",
    "ranks = [live_cdf.PercentileRank(x) for x in sample]"
   ]
  },
  {
   "cell_type": "markdown",
   "metadata": {},
   "source": [
    "The resulting list of ranks should be approximately uniform from 0-1."
   ]
  },
  {
   "cell_type": "code",
   "execution_count": 58,
   "metadata": {},
   "outputs": [
    {
     "data": {
      "image/png": "[encoded data removed]",
      "text/plain": [
       "<Figure size 432x288 with 1 Axes>"
      ]
     },
     "metadata": {},
     "output_type": "display_data"
    }
   ],
   "source": [
    "rank_cdf = thinkstats2.Cdf(ranks)\n",
    "thinkplot.Cdf(rank_cdf)\n",
    "thinkplot.Config(xlabel='Percentile rank', ylabel='CDF')"
   ]
  },
  {
   "cell_type": "markdown",
   "metadata": {},
   "source": [
    "That observation is the basis of `Cdf.Sample`, which generates a random sample from a Cdf.  Here's an example."
   ]
  },
  {
   "cell_type": "code",
   "execution_count": 59,
   "metadata": {},
   "outputs": [
    {
     "data": {
      "image/png": "[encoded data removed]",
      "text/plain": [
       "<Figure size 432x288 with 1 Axes>"
      ]
     },
     "metadata": {},
     "output_type": "display_data"
    }
   ],
   "source": [
    "resample = live_cdf.Sample(1000)\n",
    "thinkplot.Cdf(live_cdf)\n",
    "thinkplot.Cdf(thinkstats2.Cdf(resample, label='resample'))\n",
    "thinkplot.Config(xlabel='Birth weight (pounds)', ylabel='CDF')"
   ]
  },
  {
   "cell_type": "markdown",
   "metadata": {},
   "source": [
    "This confirms that the random sample has the same distribution as the original data."
   ]
  },
  {
   "cell_type": "markdown",
   "metadata": {
    "collapsed": true
   },
   "source": [
    "## Exercises"
   ]
  },
  {
   "cell_type": "markdown",
   "metadata": {
    "collapsed": true
   },
   "source": [
    "**Exercise:** How much did you weigh at birth? If you don’t know, call your mother or someone else who knows. Using the NSFG data (all live births), compute the distribution of birth weights and use it to find your percentile rank. If you were a first baby, find your percentile rank in the distribution for first babies. Otherwise use the distribution for others. If you are in the 90th percentile or higher, call your mother back and apologize."
   ]
  },
  {
   "cell_type": "code",
   "execution_count": 60,
   "metadata": {},
   "outputs": [],
   "source": [
    "# Solution goes here\n",
    "# Randomly generated number (between 5 and 10):\n",
    "birth_weight = 5.65\n",
    "\n",
    "# Youngest of 3"
   ]
  },
  {
   "cell_type": "code",
   "execution_count": 61,
   "metadata": {},
   "outputs": [
    {
     "data": {
      "text/plain": [
       "9.176470588235293"
      ]
     },
     "execution_count": 61,
     "metadata": {},
     "output_type": "execute_result"
    }
   ],
   "source": [
    "# Solution goes here\n",
    "other_cdf.PercentileRank(birth_weight)"
   ]
  },
  {
   "cell_type": "markdown",
   "metadata": {
    "collapsed": true
   },
   "source": [
    "**Exercise:** The numbers generated by `numpy.random.random` are supposed to be uniform between 0 and 1; that is, every value in the range should have the same probability.\n",
    "\n",
    "Generate 1000 numbers from `numpy.random.random` and plot their PMF.  What goes wrong?\n",
    "\n",
    "Now plot the CDF. Is the distribution uniform?"
   ]
  },
  {
   "cell_type": "code",
   "execution_count": 62,
   "metadata": {},
   "outputs": [],
   "source": [
    "# Solution goes here\n",
    "random_numbers = np.random.random(1000)"
   ]
  },
  {
   "cell_type": "code",
   "execution_count": 63,
   "metadata": {},
   "outputs": [
    {
     "data": {
      "text/plain": [
       "array([4.51202046e-01, 6.37191965e-01, 2.60759295e-01, 2.84945689e-01,\n",
       "       3.14211191e-01, 5.43525352e-01, 1.73624945e-02, 3.51059785e-01,\n",
       "       3.48999863e-01, 9.64035731e-01, 3.47320271e-01, 5.19895846e-01,\n",
       "       1.39937793e-01, 8.68378707e-01, 4.18928549e-01, 8.50209438e-01,\n",
       "       8.11342300e-01, 1.34515290e-01, 8.64586231e-01, 3.50881420e-01,\n",
       "       3.51866437e-01, 3.73463737e-01, 6.41098188e-01, 5.69397869e-01,\n",
       "       1.72889947e-01, 7.10692189e-01, 1.01834323e-01, 9.18420026e-01,\n",
       "       2.44711910e-01, 2.95574019e-01, 4.91056526e-01, 6.57643729e-01,\n",
       "       4.80704294e-01, 5.36392823e-01, 7.68070182e-02, 2.45841920e-01,\n",
       "       7.90774158e-01, 5.93402675e-01, 7.27581415e-01, 4.75527839e-01,\n",
       "       9.92193880e-02, 5.39762865e-01, 8.29588187e-01, 2.36701367e-02,\n",
       "       8.49513569e-02, 7.02770040e-01, 4.95455372e-02, 7.68378991e-01,\n",
       "       5.70095875e-01, 7.43551482e-01, 7.15660094e-01, 2.36897464e-01,\n",
       "       9.83909644e-01, 1.40746163e-01, 4.82488005e-02, 4.33700075e-01,\n",
       "       1.05767074e-01, 7.55468856e-01, 2.31375788e-01, 6.37643966e-01,\n",
       "       8.11342968e-01, 1.21630835e-01, 4.82669121e-01, 1.35398073e-01,\n",
       "       3.60301310e-01, 4.75655960e-01, 2.21603032e-01, 3.64564424e-02,\n",
       "       2.60525555e-01, 2.99144398e-01, 5.26732029e-01, 1.97860817e-01,\n",
       "       4.19766845e-01, 7.90784178e-01, 7.33650396e-01, 3.22997204e-01,\n",
       "       5.78345601e-01, 9.79832320e-01, 5.73628070e-01, 2.24653689e-01,\n",
       "       9.75015279e-01, 8.62097141e-01, 3.92002761e-01, 9.35200195e-01,\n",
       "       9.84076433e-02, 3.19174731e-02, 2.17438937e-01, 3.49613259e-01,\n",
       "       6.90688724e-01, 7.59405457e-02, 1.73225129e-01, 3.69175003e-01,\n",
       "       3.79770324e-01, 8.85631104e-01, 2.46740742e-01, 7.21735632e-01,\n",
       "       8.64982051e-01, 2.40324459e-01, 1.68112648e-01, 6.50974360e-01,\n",
       "       8.62274750e-01, 9.64815258e-01, 8.37675837e-01, 4.38435588e-02,\n",
       "       7.29867574e-01, 5.48731627e-01, 7.72205087e-01, 4.30758755e-01,\n",
       "       5.17754561e-01, 5.64432973e-01, 5.34382255e-01, 2.05365523e-01,\n",
       "       3.00271173e-02, 6.60850628e-01, 8.13941312e-01, 3.81869408e-01,\n",
       "       4.77184274e-01, 9.95822525e-01, 6.82302503e-01, 3.45655649e-01,\n",
       "       3.22583196e-01, 5.84092196e-01, 7.24007755e-01, 2.42100416e-01,\n",
       "       8.77247870e-01, 9.07829981e-01, 8.35127422e-01, 2.86505776e-01,\n",
       "       1.97962890e-01, 5.59132374e-01, 5.77932850e-01, 3.02378563e-01,\n",
       "       6.01147003e-01, 8.32928596e-01, 1.52354884e-01, 3.33029821e-01,\n",
       "       6.38594895e-01, 9.34263269e-01, 7.18142437e-01, 4.41017248e-01,\n",
       "       9.01756527e-01, 1.69861096e-01, 1.06043262e-01, 1.69400658e-01,\n",
       "       3.13999085e-01, 1.80106774e-01, 5.42816221e-01, 2.29414968e-01,\n",
       "       2.98492045e-01, 6.93955658e-01, 5.38640445e-01, 7.71249185e-02,\n",
       "       9.74245462e-01, 7.70795655e-01, 3.86895926e-01, 2.23657434e-02,\n",
       "       2.15762461e-02, 4.89209113e-01, 6.96947150e-01, 2.81415307e-01,\n",
       "       5.15727000e-01, 1.61172053e-01, 8.74573678e-01, 3.54180854e-01,\n",
       "       5.04054485e-01, 3.52084842e-01, 4.97210526e-01, 9.81312155e-01,\n",
       "       7.60981107e-01, 3.79827557e-01, 4.95506962e-01, 7.66491702e-01,\n",
       "       9.08155701e-01, 1.55059393e-01, 4.06836983e-01, 2.69772435e-01,\n",
       "       8.66062442e-01, 7.51339460e-01, 1.60988548e-01, 4.51747569e-01,\n",
       "       3.52871658e-01, 7.34206513e-01, 9.52058931e-02, 8.76700714e-01,\n",
       "       3.21313577e-01, 3.34737642e-01, 5.89456436e-01, 8.49239611e-01,\n",
       "       1.77135248e-01, 5.65932967e-01, 8.27402374e-01, 9.06905915e-01,\n",
       "       6.52785775e-01, 1.10903047e-01, 5.64883990e-02, 4.19717042e-01,\n",
       "       7.24584213e-01, 4.86619477e-01, 5.98157065e-01, 6.81427388e-01,\n",
       "       4.36880685e-01, 9.65513730e-01, 7.07496059e-01, 4.34055268e-01,\n",
       "       7.28562008e-01, 4.47262171e-01, 6.55714643e-01, 9.35659580e-01,\n",
       "       3.38775385e-03, 1.47087703e-01, 2.21752484e-01, 4.25262526e-01,\n",
       "       7.83320354e-01, 7.53380950e-01, 8.40227407e-01, 3.54113462e-01,\n",
       "       5.50636915e-01, 9.11192901e-01, 6.57153116e-01, 3.41096860e-01,\n",
       "       5.45201214e-01, 7.45219852e-01, 9.36728027e-01, 5.16701423e-02,\n",
       "       3.00429814e-01, 5.21237963e-01, 2.84931651e-02, 4.70942265e-01,\n",
       "       9.96550002e-01, 2.86168172e-01, 2.68039506e-01, 9.26348310e-01,\n",
       "       1.85089186e-01, 5.17761240e-02, 2.88138290e-01, 6.56363712e-01,\n",
       "       8.51189974e-01, 4.63394946e-01, 9.43033979e-01, 4.22295136e-01,\n",
       "       8.83038954e-01, 7.80324463e-01, 4.70458480e-01, 5.11029005e-01,\n",
       "       8.45321520e-01, 2.47728168e-01, 2.46689870e-01, 8.42134597e-01,\n",
       "       4.68154272e-01, 2.47362649e-01, 2.35056764e-01, 6.18189167e-01,\n",
       "       9.33911204e-01, 1.85226996e-01, 4.32819741e-02, 1.43373877e-01,\n",
       "       7.07485076e-01, 1.84282841e-01, 3.33163427e-01, 6.41169943e-02,\n",
       "       1.09448201e-01, 5.24101488e-01, 6.41503192e-01, 7.56949506e-01,\n",
       "       7.59412620e-02, 5.48386335e-01, 1.12568009e-01, 1.47900454e-01,\n",
       "       7.29601900e-01, 5.67544732e-02, 6.44285263e-01, 9.01037070e-01,\n",
       "       8.42102340e-01, 7.74853055e-01, 6.81862894e-01, 4.82066530e-01,\n",
       "       9.99239816e-01, 7.88064044e-01, 7.10109828e-01, 6.76464285e-01,\n",
       "       8.18791591e-01, 7.19475484e-01, 3.74947004e-01, 1.49129360e-01,\n",
       "       2.54366510e-01, 8.29354108e-01, 2.07917067e-01, 7.63711000e-01,\n",
       "       9.34552222e-01, 7.78315244e-01, 1.59926063e-01, 1.01331456e-02,\n",
       "       9.04622349e-01, 1.09637327e-01, 5.69371641e-01, 3.87660908e-01,\n",
       "       9.49633699e-01, 2.21984520e-01, 6.13322200e-01, 3.03355020e-01,\n",
       "       7.70930687e-01, 7.36354212e-02, 2.01924686e-01, 9.63201893e-01,\n",
       "       9.20898379e-01, 5.65013479e-01, 9.10548010e-01, 2.61899309e-01,\n",
       "       9.74590221e-01, 1.98927214e-03, 7.27833472e-01, 1.14637825e-01,\n",
       "       4.62181307e-01, 9.05669623e-02, 5.42695298e-01, 9.40964467e-01,\n",
       "       1.58360821e-01, 7.89186086e-01, 1.86052974e-01, 4.84509700e-01,\n",
       "       4.51275889e-01, 2.42389465e-01, 7.14862702e-01, 9.07296908e-01,\n",
       "       7.94295609e-01, 7.05420261e-01, 6.23247052e-02, 1.67567594e-01,\n",
       "       2.06170762e-01, 4.55463116e-01, 2.97029703e-01, 2.25251691e-01,\n",
       "       8.02798406e-01, 4.89337036e-01, 9.19353321e-01, 2.66910035e-01,\n",
       "       6.90568441e-01, 4.37503027e-01, 1.61864385e-01, 2.76533761e-01,\n",
       "       4.56657614e-01, 9.67953663e-01, 4.20884841e-01, 6.03871306e-01,\n",
       "       6.99829098e-01, 1.86083380e-01, 1.33697545e-01, 1.42211508e-01,\n",
       "       3.39620938e-01, 6.26332381e-01, 3.39261460e-01, 7.93833398e-01,\n",
       "       7.76006252e-01, 1.94830716e-01, 6.26354321e-01, 9.34967442e-01,\n",
       "       9.79974322e-01, 6.78197375e-01, 8.14128527e-02, 5.87360041e-02,\n",
       "       5.66713598e-01, 6.15614079e-01, 2.52924439e-01, 1.92273937e-01,\n",
       "       3.20770697e-01, 7.53637312e-01, 8.11849445e-01, 2.14492677e-01,\n",
       "       2.78580774e-01, 8.37666937e-01, 5.76546830e-01, 2.27687314e-01,\n",
       "       9.89335440e-01, 6.52280156e-02, 4.50831922e-01, 5.87349573e-01,\n",
       "       5.89975642e-01, 5.64906714e-01, 8.64543907e-01, 1.34309365e-02,\n",
       "       2.49612293e-01, 8.31699007e-01, 9.78330705e-01, 7.73847347e-01,\n",
       "       6.71676144e-01, 1.34462693e-01, 2.79341602e-01, 7.50989092e-02,\n",
       "       7.46042901e-01, 9.73023721e-01, 7.30141317e-03, 2.55140105e-01,\n",
       "       2.58990756e-01, 8.25253469e-01, 3.74836441e-01, 8.34031359e-01,\n",
       "       7.45966745e-01, 3.91327341e-01, 6.45907415e-01, 2.11205938e-01,\n",
       "       2.97868127e-01, 1.29086353e-01, 3.12059063e-01, 7.32613709e-01,\n",
       "       2.72158258e-01, 7.86572066e-01, 4.60532431e-01, 1.33005856e-01,\n",
       "       8.53911973e-01, 3.03846272e-02, 6.00854410e-01, 4.70824453e-02,\n",
       "       9.93076256e-01, 5.13970908e-03, 4.08758372e-01, 4.00637563e-02,\n",
       "       6.51441219e-01, 8.27386659e-01, 8.60584275e-01, 7.98454588e-01,\n",
       "       7.19152626e-02, 2.24373231e-01, 6.42762418e-01, 7.97514949e-01,\n",
       "       1.22531054e-02, 2.45794617e-01, 1.96559213e-01, 8.58704507e-01,\n",
       "       9.00133358e-01, 8.76052647e-02, 9.64541715e-01, 6.28040958e-01,\n",
       "       1.72819456e-01, 2.50916716e-03, 2.28716383e-02, 7.72673050e-01,\n",
       "       8.20130067e-01, 6.92717254e-01, 2.82522805e-01, 8.63575335e-01,\n",
       "       8.83697174e-01, 3.57692693e-01, 7.87618621e-01, 3.09196823e-01,\n",
       "       8.04405768e-01, 4.19995287e-01, 7.78299683e-01, 8.42432585e-01,\n",
       "       3.33688520e-01, 4.30000781e-01, 2.65684335e-01, 9.97126839e-01,\n",
       "       2.25771554e-01, 3.24256869e-01, 5.55417628e-01, 7.27790619e-01,\n",
       "       8.18358405e-01, 8.89573838e-01, 9.05650410e-02, 7.40964881e-01,\n",
       "       2.58816792e-01, 9.26325976e-02, 5.79938770e-01, 9.51758084e-01,\n",
       "       7.80960387e-01, 4.14587432e-01, 2.78440769e-01, 2.17181814e-01,\n",
       "       8.71520484e-01, 3.43842853e-01, 4.77523193e-02, 1.01271731e-01,\n",
       "       5.30271720e-01, 7.41375808e-01, 9.90098873e-01, 1.59523702e-01,\n",
       "       8.26701878e-01, 2.06624814e-01, 5.43578273e-01, 3.71214706e-01,\n",
       "       8.89986957e-01, 7.50158234e-01, 6.73207430e-02, 5.76671745e-01,\n",
       "       2.12934172e-01, 1.95534849e-02, 7.67942805e-01, 1.07341016e-01,\n",
       "       5.13780555e-01, 6.07765118e-01, 1.71593097e-04, 1.07094224e-02,\n",
       "       6.16116332e-01, 3.50592351e-01, 9.68446571e-01, 1.49064632e-01,\n",
       "       9.37003250e-01, 1.83155885e-01, 3.55291702e-01, 4.72706900e-01,\n",
       "       2.56985532e-01, 4.92834597e-01, 8.57678494e-01, 9.13528690e-02,\n",
       "       2.69051697e-01, 6.68855622e-01, 8.35973970e-01, 9.55452725e-01,\n",
       "       5.38415388e-01, 4.41398532e-03, 4.06068694e-01, 7.87880066e-01,\n",
       "       2.48054456e-01, 5.17573803e-01, 6.74871981e-01, 6.29654991e-01,\n",
       "       5.92296510e-01, 1.58755201e-01, 4.63875585e-01, 3.45890641e-01,\n",
       "       3.69789169e-01, 7.08510160e-01, 3.55214635e-01, 2.10232593e-02,\n",
       "       7.33480557e-01, 5.11792971e-01, 9.74021936e-01, 6.93533122e-01,\n",
       "       4.25051393e-01, 4.04388072e-01, 6.30666980e-01, 7.38911293e-01,\n",
       "       4.18488326e-01, 9.85964976e-01, 4.72437014e-01, 1.06161101e-01,\n",
       "       1.29242145e-01, 6.56667959e-01, 9.72027856e-01, 2.50032683e-01,\n",
       "       4.90251608e-01, 1.67490868e-01, 7.20140709e-02, 3.52107830e-01,\n",
       "       1.20534727e-02, 1.25875940e-02, 4.79670169e-01, 6.83539413e-01,\n",
       "       6.58428134e-01, 7.30254796e-01, 5.72810175e-01, 8.61124790e-01,\n",
       "       1.23436160e-01, 3.69050889e-01, 5.67271737e-01, 5.91732778e-01,\n",
       "       6.94825654e-01, 2.22632482e-01, 5.71711563e-01, 9.56509809e-01,\n",
       "       9.78878559e-01, 7.36655922e-01, 6.54125038e-01, 8.53111932e-01,\n",
       "       4.96950463e-01, 4.64016726e-01, 6.03948105e-01, 7.33036591e-01,\n",
       "       9.13745605e-01, 5.51039942e-01, 4.99941945e-01, 3.11141903e-02,\n",
       "       5.43681340e-01, 9.73098237e-01, 1.38578836e-01, 3.71301150e-02,\n",
       "       9.56545997e-03, 3.58003632e-01, 7.72633343e-01, 6.96393997e-01,\n",
       "       7.48529565e-01, 6.24599728e-01, 5.28643392e-01, 8.29696970e-01,\n",
       "       5.36369459e-01, 7.69155824e-02, 1.48029082e-02, 4.45403394e-01,\n",
       "       8.65814102e-01, 8.04064280e-01, 7.26602338e-01, 6.82679103e-01,\n",
       "       9.06496821e-01, 6.91369354e-01, 6.84348921e-01, 3.25308781e-01,\n",
       "       2.93367340e-01, 6.50623590e-01, 7.06323734e-01, 3.96869945e-01,\n",
       "       7.82006931e-01, 2.32344280e-02, 9.82097188e-01, 3.58972866e-01,\n",
       "       3.44189809e-01, 8.31495816e-01, 8.78624995e-01, 9.05990669e-01,\n",
       "       1.26525103e-01, 6.16690460e-01, 7.07299959e-01, 8.01435548e-01,\n",
       "       7.34525070e-01, 3.61163919e-01, 6.24658062e-01, 5.65922408e-02,\n",
       "       2.39117801e-01, 7.90031690e-01, 4.66407698e-01, 6.50639775e-01,\n",
       "       1.92775833e-01, 9.76044507e-01, 5.32167769e-02, 8.10078310e-01,\n",
       "       3.52034807e-02, 4.55787242e-02, 4.17256438e-02, 4.01829479e-01,\n",
       "       4.58070515e-01, 5.01301209e-01, 4.19553849e-01, 7.77561416e-01,\n",
       "       9.26377716e-01, 8.58257122e-01, 3.04547877e-01, 7.34987244e-01,\n",
       "       6.00369363e-02, 8.14742468e-01, 2.45629113e-01, 4.49871173e-01,\n",
       "       9.74995963e-01, 5.52431976e-01, 3.27054614e-01, 7.27007047e-01,\n",
       "       1.95856846e-01, 6.66424995e-01, 4.80025718e-01, 7.17732897e-01,\n",
       "       7.83272454e-01, 1.35373272e-01, 1.17060459e-01, 8.36318673e-01,\n",
       "       8.05262014e-01, 8.05449440e-01, 2.87614897e-01, 7.27014075e-02,\n",
       "       7.31391364e-01, 5.13299286e-01, 1.55562992e-02, 3.33025354e-01,\n",
       "       7.48519842e-02, 4.08127105e-01, 1.12899825e-01, 9.20152200e-01,\n",
       "       4.21590123e-02, 9.46028423e-01, 5.47304109e-01, 8.14883865e-01,\n",
       "       8.72798592e-01, 5.68226263e-01, 4.71740939e-01, 8.92947144e-01,\n",
       "       2.90451828e-01, 8.27383167e-01, 1.06590555e-01, 1.55536100e-01,\n",
       "       6.58522493e-02, 5.65122099e-01, 6.81961975e-01, 4.37795202e-01,\n",
       "       3.10851076e-01, 5.37456992e-01, 2.66410442e-01, 5.32228876e-01,\n",
       "       1.82719170e-01, 4.22384241e-01, 8.71888014e-01, 7.48023397e-05,\n",
       "       6.76655857e-01, 5.21131848e-01, 4.73424014e-01, 7.54100072e-01,\n",
       "       1.84612518e-01, 3.72498019e-01, 6.51368824e-03, 1.50710997e-02,\n",
       "       8.07232162e-01, 8.28521456e-01, 2.61307757e-02, 2.78160335e-01,\n",
       "       2.96358236e-01, 5.88932908e-02, 5.91739944e-01, 1.75300344e-01,\n",
       "       3.62629992e-01, 6.06345028e-01, 2.18391314e-01, 9.69248828e-01,\n",
       "       2.01356391e-01, 3.16112082e-01, 2.72070062e-01, 9.48650996e-01,\n",
       "       1.09334935e-01, 9.78960254e-01, 3.35967628e-01, 1.29270127e-01,\n",
       "       9.07422633e-01, 7.44820181e-01, 5.88394773e-01, 9.95553832e-01,\n",
       "       1.96831916e-01, 1.81787804e-01, 5.31874103e-01, 8.45966226e-01,\n",
       "       9.04737243e-02, 7.78019940e-02, 8.84562838e-01, 5.81399350e-01,\n",
       "       2.78154159e-01, 9.48434450e-01, 4.42191022e-01, 9.16001979e-01,\n",
       "       8.26259024e-01, 2.50599306e-01, 2.82074129e-01, 8.90655195e-01,\n",
       "       5.98318029e-01, 9.27943038e-01, 4.43809485e-01, 8.74376529e-01,\n",
       "       7.64194428e-01, 3.16083176e-01, 2.67802534e-02, 9.38966005e-01,\n",
       "       1.03189541e-01, 2.77598176e-01, 2.91290902e-01, 5.95126361e-01,\n",
       "       7.85770581e-02, 2.62999109e-01, 7.97327961e-01, 7.30378419e-01,\n",
       "       3.30767331e-01, 8.14023478e-01, 5.81704184e-01, 6.99224894e-01,\n",
       "       1.15604500e-01, 6.74088214e-01, 6.05637350e-01, 7.92264816e-01,\n",
       "       1.36873879e-01, 1.24090209e-01, 7.87361195e-01, 3.35101996e-01,\n",
       "       1.02765940e-01, 5.67958205e-01, 2.99511549e-01, 8.73059710e-01,\n",
       "       8.92758317e-01, 9.21275574e-01, 8.52538730e-01, 6.32648383e-01,\n",
       "       4.03543844e-01, 8.07313440e-01, 7.56503394e-01, 3.54389100e-02,\n",
       "       9.59992140e-01, 1.59245133e-02, 5.07851233e-01, 1.88138763e-01,\n",
       "       5.64412486e-01, 6.84512643e-01, 2.29226623e-01, 3.72891864e-01,\n",
       "       8.30499749e-01, 2.10343267e-01, 6.00340237e-01, 2.38083443e-01,\n",
       "       5.73358755e-01, 3.26742032e-01, 3.42886774e-01, 1.91583412e-01,\n",
       "       7.42190691e-01, 4.06182613e-01, 5.20296288e-01, 6.73711689e-01,\n",
       "       1.97199269e-01, 1.12978552e-01, 8.27077480e-01, 7.02982106e-01,\n",
       "       4.61100653e-01, 1.10696722e-01, 6.67783035e-01, 3.51139912e-01,\n",
       "       1.11679661e-01, 1.88509575e-01, 8.39717045e-01, 4.44422200e-01,\n",
       "       4.40799040e-01, 5.62866872e-01, 8.78619690e-01, 5.77804462e-01,\n",
       "       2.26315753e-01, 1.65504354e-01, 1.37966598e-01, 2.62411842e-01,\n",
       "       7.83571966e-01, 9.17618454e-01, 4.62154593e-01, 4.53454003e-01,\n",
       "       9.52286821e-01, 9.75922453e-01, 1.82327008e-01, 5.68343849e-01,\n",
       "       4.48102832e-01, 7.90777895e-01, 9.52234662e-01, 7.56794337e-01,\n",
       "       9.41481528e-01, 3.70539467e-01, 1.77406017e-02, 7.15453371e-01,\n",
       "       7.99675713e-01, 4.27278021e-01, 7.79271445e-01, 6.06714295e-01,\n",
       "       4.18422285e-01, 4.06870108e-01, 2.41833153e-01, 3.55175538e-01,\n",
       "       2.70397562e-01, 1.82890055e-01, 4.55593706e-01, 8.00719165e-01,\n",
       "       5.81783258e-02, 6.56952220e-01, 4.86820074e-01, 9.01215318e-01,\n",
       "       5.48674580e-01, 9.94487388e-01, 4.60011497e-01, 5.85011192e-01,\n",
       "       5.03897066e-01, 8.31458036e-01, 8.16279630e-02, 8.78405113e-01,\n",
       "       2.08007074e-01, 1.73363271e-02, 4.36095418e-01, 9.10799648e-01,\n",
       "       4.92901831e-01, 4.78610988e-01, 9.27230294e-01, 4.82607581e-01,\n",
       "       4.82460638e-01, 2.31586816e-02, 3.40256674e-02, 7.97469140e-02,\n",
       "       5.06025724e-01, 4.35441907e-01, 7.28884813e-01, 3.41146148e-01,\n",
       "       7.52312668e-01, 8.15612312e-01, 3.78395303e-01, 3.09418079e-03,\n",
       "       4.66782270e-01, 6.89090579e-01, 3.29289584e-01, 3.88311630e-01,\n",
       "       9.36334329e-02, 4.09227407e-01, 8.90396980e-01, 4.01476278e-01,\n",
       "       2.16530545e-01, 4.59527027e-01, 5.25341178e-02, 3.36953730e-01,\n",
       "       5.80772353e-01, 6.97157717e-01, 1.18615682e-01, 2.44521042e-02,\n",
       "       5.26489084e-01, 4.64803544e-01, 3.84282675e-01, 9.53104713e-01,\n",
       "       1.77482828e-01, 3.57845132e-01, 7.95846225e-01, 5.56262426e-01,\n",
       "       1.81514203e-01, 2.11947716e-01, 9.74044336e-01, 6.33266749e-01,\n",
       "       9.24350118e-01, 5.25480397e-01, 3.09967772e-01, 7.43409346e-01,\n",
       "       9.85153095e-02, 6.16676536e-01, 9.19995886e-01, 2.27001841e-01,\n",
       "       7.33994287e-01, 4.93721374e-01, 8.49025887e-01, 3.43527763e-01,\n",
       "       9.92992123e-01, 6.66983585e-01, 7.90209992e-02, 4.79976914e-01,\n",
       "       3.94405067e-01, 9.28523001e-01, 9.24898573e-01, 2.60052277e-01,\n",
       "       1.35878183e-02, 5.69563390e-01, 4.38032043e-01, 5.78425110e-01,\n",
       "       2.69763993e-01, 7.52945165e-02, 5.78464332e-01, 3.29859459e-01,\n",
       "       6.93877994e-01, 6.66074440e-01, 9.25996081e-01, 8.15277691e-01,\n",
       "       3.87376894e-01, 9.23813486e-01, 9.63537117e-01, 2.57568940e-02,\n",
       "       8.52017598e-02, 5.30685953e-01, 4.05292115e-01, 5.26891615e-02,\n",
       "       5.73406241e-01, 8.74695101e-01, 1.49781674e-01, 2.63262089e-01,\n",
       "       2.13486606e-04, 9.45721583e-01, 1.83272199e-01, 5.91626084e-01,\n",
       "       9.70863242e-01, 8.12903316e-01, 6.22934818e-02, 6.07185691e-02,\n",
       "       3.36011736e-03, 1.99860796e-01, 5.63969505e-01, 6.05078254e-01,\n",
       "       8.35844719e-01, 4.91815954e-01, 6.58009382e-01, 6.74078757e-01,\n",
       "       2.39250159e-01, 7.84500793e-01, 1.59493138e-01, 1.93323304e-01,\n",
       "       9.76190816e-01, 5.52523198e-01, 7.71384946e-01, 5.60616846e-01,\n",
       "       5.99427973e-01, 1.20534965e-01, 6.44716965e-02, 6.48377389e-01,\n",
       "       2.59816059e-02, 5.98706238e-01, 1.78930237e-02, 1.06178696e-01,\n",
       "       8.92921846e-01, 8.30251753e-02, 4.80882051e-01, 2.73099551e-01,\n",
       "       7.74973807e-01, 3.06369924e-01, 8.78257446e-01, 7.58699916e-02,\n",
       "       8.09620789e-01, 7.30240529e-01, 1.67522922e-01, 3.94834119e-01,\n",
       "       6.40288988e-01, 5.61264899e-01, 9.35979859e-01, 6.49323404e-01,\n",
       "       6.30597578e-01, 9.96251645e-01, 9.14146879e-01, 7.39218218e-01])"
      ]
     },
     "execution_count": 63,
     "metadata": {},
     "output_type": "execute_result"
    }
   ],
   "source": [
    "# Solution goes here\n",
    "random_numbers"
   ]
  },
  {
   "cell_type": "code",
   "execution_count": 64,
   "metadata": {},
   "outputs": [
    {
     "data": {
      "image/png": "[encoded data removed]",
      "text/plain": [
       "<Figure size 432x288 with 1 Axes>"
      ]
     },
     "metadata": {},
     "output_type": "display_data"
    }
   ],
   "source": [
    "# Solution goes here\n",
    "random_cdf_plot = thinkstats2.Cdf(random_numbers)\n",
    "thinkplot.Cdf(random_cdf_plot)\n",
    "thinkplot.Config(xlabel='random numbers', ylabel='CDF')\n",
    "\n",
    "# Pretty close to a uniform distribution"
   ]
  },
  {
   "cell_type": "code",
   "execution_count": null,
   "metadata": {},
   "outputs": [],
   "source": []
  }
 ],
 "metadata": {
  "kernelspec": {
   "display_name": "Python 3",
   "language": "python",
   "name": "python3"
  },
  "language_info": {
   "codemirror_mode": {
    "name": "ipython",
    "version": 3
   },
   "file_extension": ".py",
   "mimetype": "text/x-python",
   "name": "python",
   "nbconvert_exporter": "python",
   "pygments_lexer": "ipython3",
   "version": "3.6.5"
  }
 },
 "nbformat": 4,
 "nbformat_minor": 1
}
